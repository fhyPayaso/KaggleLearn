{
 "metadata": {
  "language_info": {
   "codemirror_mode": {
    "name": "ipython",
    "version": 3
   },
   "file_extension": ".py",
   "mimetype": "text/x-python",
   "name": "python",
   "nbconvert_exporter": "python",
   "pygments_lexer": "ipython3",
   "version": "3.7.2-final"
  },
  "orig_nbformat": 2,
  "kernelspec": {
   "name": "python3",
   "display_name": "Python 3"
  }
 },
 "nbformat": 4,
 "nbformat_minor": 2,
 "cells": [
  {
   "cell_type": "code",
   "execution_count": 104,
   "metadata": {},
   "outputs": [],
   "source": [
    "# self baseline \n",
    "import pandas as pd\n",
    "import numpy as np\n",
    "import matplotlib.pyplot as plt\n",
    "import seaborn as sns\n",
    "\n",
    "# 集成学习\n",
    "from sklearn import ensemble\n",
    "\n",
    "from sklearn import model_selection\n",
    "from sklearn import preprocessing\n",
    "\n",
    "# \b线性回归和逻辑回归\n",
    "from sklearn.linear_model import LinearRegression\n",
    "from sklearn.linear_model import LogisticRegression\n",
    "\n"
   ]
  },
  {
   "cell_type": "code",
   "execution_count": 11,
   "metadata": {},
   "outputs": [],
   "source": [
    "# 读取训练集和测试并进行连接\n",
    "train_data = pd.read_csv('./dataset/train.csv')\n",
    "test_data = pd.read_csv('./dataset/test.csv')\n",
    "\n",
    "train_lable = train_data['Survived']\n",
    "\n",
    "all_data = pd.concat([train_data,test_data], ignore_index = True)\n",
    "# 特征工程前删掉标签\n",
    "all_data = all_data.drop(['Survived', 'PassengerId'], axis=1)"
   ]
  },
  {
   "cell_type": "code",
   "execution_count": 12,
   "metadata": {
    "tags": []
   },
   "outputs": [
    {
     "output_type": "stream",
     "name": "stdout",
     "text": "&lt;class &#39;pandas.core.frame.DataFrame&#39;&gt;\nRangeIndex: 1309 entries, 0 to 1308\nData columns (total 10 columns):\nAge         1046 non-null float64\nCabin       295 non-null object\nEmbarked    1307 non-null object\nFare        1308 non-null float64\nName        1309 non-null object\nParch       1309 non-null int64\nPclass      1309 non-null int64\nSex         1309 non-null object\nSibSp       1309 non-null int64\nTicket      1309 non-null object\ndtypes: float64(2), int64(3), object(5)\nmemory usage: 102.3+ KB\n"
    }
   ],
   "source": [
    "all_data.info()"
   ]
  },
  {
   "source": [
    "### 2. 特征工程"
   ],
   "cell_type": "markdown",
   "metadata": {}
  },
  {
   "cell_type": "code",
   "execution_count": 13,
   "metadata": {
    "tags": []
   },
   "outputs": [],
   "source": [
    "# ========================= 1. Embarked 登船口 1307 =========================\n",
    "\n",
    "# all_data['Embarked'].value_counts()\n",
    "# S    914\n",
    "# C    270\n",
    "# Q    123\n",
    "\n",
    "# 获取众数， mode()返回的是一个DataFrame, 因为可能有多个众数\n",
    "# iloc按行索引获得众数的值\n",
    "embarked_mode = all_data['Embarked'].mode().iloc[0]\n",
    "# 填充缺失值， inplace = True直接修改原数据\n",
    "all_data['Embarked'].fillna(embarked_mode, inplace = True)"
   ]
  },
  {
   "cell_type": "code",
   "execution_count": 15,
   "metadata": {
    "tags": []
   },
   "outputs": [
    {
     "output_type": "execute_result",
     "data": {
      "text/plain": "Mr              757\nMiss            260\nMrs             197\nMaster           61\nRev               8\nDr                8\nCol               4\nMs                2\nMajor             2\nMlle              2\nSir               1\nDona              1\nJonkheer          1\nDon               1\nthe Countess      1\nCapt              1\nMme               1\nLady              1\nName: Title, dtype: int64"
     },
     "metadata": {},
     "execution_count": 15
    }
   ],
   "source": [
    "# ========================= 2. Name =========================\n",
    "\n",
    "# x.split(',')[1].split('.')[0].strip() \n",
    "# 先按','分割取第二个，再按‘.’分割取第一个\n",
    "# 如McGowan, Miss. Anna \"Annie\" 分割得到Miss\n",
    "all_data['Title'] = all_data['Name'].apply(lambda x:x.split(',')[1].split('.')[0].strip())\n",
    "all_data['Title'].value_counts()"
   ]
  },
  {
   "cell_type": "code",
   "execution_count": 16,
   "metadata": {},
   "outputs": [
    {
     "output_type": "execute_result",
     "data": {
      "text/plain": "Mr         757\nMiss       262\nMrs        200\nMaster      62\nOfficer     23\nRoyalty      5\nName: Title, dtype: int64"
     },
     "metadata": {},
     "execution_count": 16
    }
   ],
   "source": [
    "# 将原始的Title进行分类\n",
    "Title_Dict = {}\n",
    "Title_Dict.update(dict.fromkeys(['Capt', 'Col', 'Major', 'Dr', 'Rev'], 'Officer'))\n",
    "Title_Dict.update(dict.fromkeys(['Don', 'Sir', 'the Countess', 'Dona', 'Lady'], 'Royalty'))\n",
    "Title_Dict.update(dict.fromkeys(['Mme', 'Ms', 'Mrs'], 'Mrs'))\n",
    "Title_Dict.update(dict.fromkeys(['Mlle', 'Miss'], 'Miss'))\n",
    "Title_Dict.update(dict.fromkeys(['Mr'], 'Mr'))\n",
    "Title_Dict.update(dict.fromkeys(['Master','Jonkheer'], 'Master'))\n",
    "# 将数据进行映射\n",
    "new_title = all_data['Title'].map(Title_Dict)\n",
    "new_title.value_counts()"
   ]
  },
  {
   "cell_type": "code",
   "execution_count": 17,
   "metadata": {},
   "outputs": [
    {
     "output_type": "execute_result",
     "data": {
      "text/plain": "    Age Cabin Embarked     Fare  \\\n0  22.0   NaN        S   7.2500   \n1  38.0   C85        C  71.2833   \n2  26.0   NaN        S   7.9250   \n3  35.0  C123        S  53.1000   \n4  35.0   NaN        S   8.0500   \n\n                                                Name  Parch  Pclass     Sex  \\\n0                            Braund, Mr. Owen Harris      0       3    male   \n1  Cumings, Mrs. John Bradley (Florence Briggs Th...      0       1  female   \n2                             Heikkinen, Miss. Laina      0       3  female   \n3       Futrelle, Mrs. Jacques Heath (Lily May Peel)      0       1  female   \n4                           Allen, Mr. William Henry      0       3    male   \n\n   SibSp            Ticket Title  \n0      1         A/5 21171    Mr  \n1      1          PC 17599   Mrs  \n2      0  STON/O2. 3101282  Miss  \n3      1            113803   Mrs  \n4      0            373450    Mr  ",
      "text/html": "<div>\n<style scoped>\n    .dataframe tbody tr th:only-of-type {\n        vertical-align: middle;\n    }\n\n    .dataframe tbody tr th {\n        vertical-align: top;\n    }\n\n    .dataframe thead th {\n        text-align: right;\n    }\n</style>\n<table border=\"1\" class=\"dataframe\">\n  <thead>\n    <tr style=\"text-align: right;\">\n      <th></th>\n      <th>Age</th>\n      <th>Cabin</th>\n      <th>Embarked</th>\n      <th>Fare</th>\n      <th>Name</th>\n      <th>Parch</th>\n      <th>Pclass</th>\n      <th>Sex</th>\n      <th>SibSp</th>\n      <th>Ticket</th>\n      <th>Title</th>\n    </tr>\n  </thead>\n  <tbody>\n    <tr>\n      <th>0</th>\n      <td>22.0</td>\n      <td>NaN</td>\n      <td>S</td>\n      <td>7.2500</td>\n      <td>Braund, Mr. Owen Harris</td>\n      <td>0</td>\n      <td>3</td>\n      <td>male</td>\n      <td>1</td>\n      <td>A/5 21171</td>\n      <td>Mr</td>\n    </tr>\n    <tr>\n      <th>1</th>\n      <td>38.0</td>\n      <td>C85</td>\n      <td>C</td>\n      <td>71.2833</td>\n      <td>Cumings, Mrs. John Bradley (Florence Briggs Th...</td>\n      <td>0</td>\n      <td>1</td>\n      <td>female</td>\n      <td>1</td>\n      <td>PC 17599</td>\n      <td>Mrs</td>\n    </tr>\n    <tr>\n      <th>2</th>\n      <td>26.0</td>\n      <td>NaN</td>\n      <td>S</td>\n      <td>7.9250</td>\n      <td>Heikkinen, Miss. Laina</td>\n      <td>0</td>\n      <td>3</td>\n      <td>female</td>\n      <td>0</td>\n      <td>STON/O2. 3101282</td>\n      <td>Miss</td>\n    </tr>\n    <tr>\n      <th>3</th>\n      <td>35.0</td>\n      <td>C123</td>\n      <td>S</td>\n      <td>53.1000</td>\n      <td>Futrelle, Mrs. Jacques Heath (Lily May Peel)</td>\n      <td>0</td>\n      <td>1</td>\n      <td>female</td>\n      <td>1</td>\n      <td>113803</td>\n      <td>Mrs</td>\n    </tr>\n    <tr>\n      <th>4</th>\n      <td>35.0</td>\n      <td>NaN</td>\n      <td>S</td>\n      <td>8.0500</td>\n      <td>Allen, Mr. William Henry</td>\n      <td>0</td>\n      <td>3</td>\n      <td>male</td>\n      <td>0</td>\n      <td>373450</td>\n      <td>Mr</td>\n    </tr>\n  </tbody>\n</table>\n</div>"
     },
     "metadata": {},
     "execution_count": 17
    }
   ],
   "source": [
    "all_data['Title'] = new_title\n",
    "all_data.head()"
   ]
  },
  {
   "cell_type": "code",
   "execution_count": 36,
   "metadata": {
    "tags": []
   },
   "outputs": [
    {
     "output_type": "execute_result",
     "data": {
      "text/plain": "       Age Cabin Embarked  Fare                Name  Parch  Pclass   Sex  \\\n1043  60.5   NaN        S   NaN  Storey, Mr. Thomas      0       3  male   \n\n      SibSp Ticket Title  \n1043      0   3701    Mr  ",
      "text/html": "<div>\n<style scoped>\n    .dataframe tbody tr th:only-of-type {\n        vertical-align: middle;\n    }\n\n    .dataframe tbody tr th {\n        vertical-align: top;\n    }\n\n    .dataframe thead th {\n        text-align: right;\n    }\n</style>\n<table border=\"1\" class=\"dataframe\">\n  <thead>\n    <tr style=\"text-align: right;\">\n      <th></th>\n      <th>Age</th>\n      <th>Cabin</th>\n      <th>Embarked</th>\n      <th>Fare</th>\n      <th>Name</th>\n      <th>Parch</th>\n      <th>Pclass</th>\n      <th>Sex</th>\n      <th>SibSp</th>\n      <th>Ticket</th>\n      <th>Title</th>\n    </tr>\n  </thead>\n  <tbody>\n    <tr>\n      <th>1043</th>\n      <td>60.5</td>\n      <td>NaN</td>\n      <td>S</td>\n      <td>NaN</td>\n      <td>Storey, Mr. Thomas</td>\n      <td>0</td>\n      <td>3</td>\n      <td>male</td>\n      <td>0</td>\n      <td>3701</td>\n      <td>Mr</td>\n    </tr>\n  </tbody>\n</table>\n</div>"
     },
     "metadata": {},
     "execution_count": 36
    }
   ],
   "source": [
    "# ================= 3.Fare (票价) ======================\n",
    "all_data[all_data['Fare'].isnull()]"
   ]
  },
  {
   "cell_type": "code",
   "execution_count": 66,
   "metadata": {
    "tags": []
   },
   "outputs": [
    {
     "output_type": "stream",
     "name": "stdout",
     "text": "&lt;class &#39;pandas.core.frame.DataFrame&#39;&gt;\nRangeIndex: 1309 entries, 0 to 1308\nData columns (total 11 columns):\nAge         1046 non-null float64\nCabin       295 non-null object\nEmbarked    1309 non-null object\nFare        1309 non-null float64\nName        1309 non-null object\nParch       1309 non-null int64\nPclass      1309 non-null int64\nSex         1309 non-null object\nSibSp       1309 non-null int64\nTicket      1309 non-null object\nTitle       1309 non-null object\ndtypes: float64(2), int64(3), object(6)\nmemory usage: 112.6+ KB\n"
    }
   ],
   "source": [
    "\n",
    "# all_data[(all_data['Embarked'] == 'S') & (all_data['Pclass'] == 3)]['Fare'].mean()\n",
    "# groupby + transform 可以实现分组+计算+合并 \n",
    "gb_mean = all_data.groupby(['Embarked','Pclass'])['Fare'].transform('mean')\n",
    "all_data['Fare'].fillna(gb_mean, inplace = True)\n",
    "all_data.info()"
   ]
  },
  {
   "cell_type": "code",
   "execution_count": 71,
   "metadata": {},
   "outputs": [
    {
     "output_type": "execute_result",
     "data": {
      "text/plain": "    Age Cabin Embarked     Fare  \\\n0  22.0   NaN        S   7.2500   \n1  38.0   C85        C  71.2833   \n2  26.0   NaN        S   7.9250   \n3  35.0  C123        S  53.1000   \n4  35.0   NaN        S   8.0500   \n\n                                                Name  Parch  Pclass     Sex  \\\n0                            Braund, Mr. Owen Harris      0       3    male   \n1  Cumings, Mrs. John Bradley (Florence Briggs Th...      0       1  female   \n2                             Heikkinen, Miss. Laina      0       3  female   \n3       Futrelle, Mrs. Jacques Heath (Lily May Peel)      0       1  female   \n4                           Allen, Mr. William Henry      0       3    male   \n\n   SibSp            Ticket Title  Family_size Family_label  \n0      1         A/5 21171    Mr            1       Single  \n1      1          PC 17599   Mrs            1       Single  \n2      0  STON/O2. 3101282  Miss            1       Single  \n3      1            113803   Mrs            1       Single  \n4      0            373450    Mr            1       Single  ",
      "text/html": "<div>\n<style scoped>\n    .dataframe tbody tr th:only-of-type {\n        vertical-align: middle;\n    }\n\n    .dataframe tbody tr th {\n        vertical-align: top;\n    }\n\n    .dataframe thead th {\n        text-align: right;\n    }\n</style>\n<table border=\"1\" class=\"dataframe\">\n  <thead>\n    <tr style=\"text-align: right;\">\n      <th></th>\n      <th>Age</th>\n      <th>Cabin</th>\n      <th>Embarked</th>\n      <th>Fare</th>\n      <th>Name</th>\n      <th>Parch</th>\n      <th>Pclass</th>\n      <th>Sex</th>\n      <th>SibSp</th>\n      <th>Ticket</th>\n      <th>Title</th>\n      <th>Family_size</th>\n      <th>Family_label</th>\n    </tr>\n  </thead>\n  <tbody>\n    <tr>\n      <th>0</th>\n      <td>22.0</td>\n      <td>NaN</td>\n      <td>S</td>\n      <td>7.2500</td>\n      <td>Braund, Mr. Owen Harris</td>\n      <td>0</td>\n      <td>3</td>\n      <td>male</td>\n      <td>1</td>\n      <td>A/5 21171</td>\n      <td>Mr</td>\n      <td>1</td>\n      <td>Single</td>\n    </tr>\n    <tr>\n      <th>1</th>\n      <td>38.0</td>\n      <td>C85</td>\n      <td>C</td>\n      <td>71.2833</td>\n      <td>Cumings, Mrs. John Bradley (Florence Briggs Th...</td>\n      <td>0</td>\n      <td>1</td>\n      <td>female</td>\n      <td>1</td>\n      <td>PC 17599</td>\n      <td>Mrs</td>\n      <td>1</td>\n      <td>Single</td>\n    </tr>\n    <tr>\n      <th>2</th>\n      <td>26.0</td>\n      <td>NaN</td>\n      <td>S</td>\n      <td>7.9250</td>\n      <td>Heikkinen, Miss. Laina</td>\n      <td>0</td>\n      <td>3</td>\n      <td>female</td>\n      <td>0</td>\n      <td>STON/O2. 3101282</td>\n      <td>Miss</td>\n      <td>1</td>\n      <td>Single</td>\n    </tr>\n    <tr>\n      <th>3</th>\n      <td>35.0</td>\n      <td>C123</td>\n      <td>S</td>\n      <td>53.1000</td>\n      <td>Futrelle, Mrs. Jacques Heath (Lily May Peel)</td>\n      <td>0</td>\n      <td>1</td>\n      <td>female</td>\n      <td>1</td>\n      <td>113803</td>\n      <td>Mrs</td>\n      <td>1</td>\n      <td>Single</td>\n    </tr>\n    <tr>\n      <th>4</th>\n      <td>35.0</td>\n      <td>NaN</td>\n      <td>S</td>\n      <td>8.0500</td>\n      <td>Allen, Mr. William Henry</td>\n      <td>0</td>\n      <td>3</td>\n      <td>male</td>\n      <td>0</td>\n      <td>373450</td>\n      <td>Mr</td>\n      <td>1</td>\n      <td>Single</td>\n    </tr>\n  </tbody>\n</table>\n</div>"
     },
     "metadata": {},
     "execution_count": 71
    }
   ],
   "source": [
    "# ================= 4.Family ======================\n",
    "all_data['Family_size'] = all_data['Parch'] + all_data['Parch'] + 1\n",
    "\n",
    "def map_family_label(nums):\n",
    "    if nums <= 1:\n",
    "        return 'Single'\n",
    "    elif nums <=3:\n",
    "        return 'Mid'\n",
    "    else:\n",
    "        return 'Large'\n",
    "\n",
    "all_data['Family_label'] = all_data['Family_size'].map(map_family_label)\n",
    "\n",
    "all_data.head()"
   ]
  },
  {
   "cell_type": "code",
   "execution_count": 72,
   "metadata": {},
   "outputs": [
    {
     "output_type": "execute_result",
     "data": {
      "text/plain": "Single    1002\nMid        170\nLarge      137\nName: Family_label, dtype: int64"
     },
     "metadata": {},
     "execution_count": 72
    }
   ],
   "source": [
    "all_data['Family_label'].value_counts()"
   ]
  },
  {
   "cell_type": "code",
   "execution_count": 78,
   "metadata": {},
   "outputs": [
    {
     "output_type": "execute_result",
     "data": {
      "text/plain": "    Age Cabin Embarked     Fare  \\\n0  22.0   NaN        S   7.2500   \n1  38.0   C85        C  71.2833   \n2  26.0   NaN        S   7.9250   \n3  35.0  C123        S  53.1000   \n4  35.0   NaN        S   8.0500   \n\n                                                Name  Parch  Pclass     Sex  \\\n0                            Braund, Mr. Owen Harris      0       3    male   \n1  Cumings, Mrs. John Bradley (Florence Briggs Th...      0       1  female   \n2                             Heikkinen, Miss. Laina      0       3  female   \n3       Futrelle, Mrs. Jacques Heath (Lily May Peel)      0       1  female   \n4                           Allen, Mr. William Henry      0       3    male   \n\n   SibSp            Ticket Title  Family_size Family_label  Ticket_group  \\\n0      1         A/5 21171    Mr            1       Single             1   \n1      1          PC 17599   Mrs            1       Single             2   \n2      0  STON/O2. 3101282  Miss            1       Single             1   \n3      1            113803   Mrs            1       Single             2   \n4      0            373450    Mr            1       Single             1   \n\n   Fare_pre  \n0   7.25000  \n1  35.64165  \n2   7.92500  \n3  26.55000  \n4   8.05000  ",
      "text/html": "<div>\n<style scoped>\n    .dataframe tbody tr th:only-of-type {\n        vertical-align: middle;\n    }\n\n    .dataframe tbody tr th {\n        vertical-align: top;\n    }\n\n    .dataframe thead th {\n        text-align: right;\n    }\n</style>\n<table border=\"1\" class=\"dataframe\">\n  <thead>\n    <tr style=\"text-align: right;\">\n      <th></th>\n      <th>Age</th>\n      <th>Cabin</th>\n      <th>Embarked</th>\n      <th>Fare</th>\n      <th>Name</th>\n      <th>Parch</th>\n      <th>Pclass</th>\n      <th>Sex</th>\n      <th>SibSp</th>\n      <th>Ticket</th>\n      <th>Title</th>\n      <th>Family_size</th>\n      <th>Family_label</th>\n      <th>Ticket_group</th>\n      <th>Fare_pre</th>\n    </tr>\n  </thead>\n  <tbody>\n    <tr>\n      <th>0</th>\n      <td>22.0</td>\n      <td>NaN</td>\n      <td>S</td>\n      <td>7.2500</td>\n      <td>Braund, Mr. Owen Harris</td>\n      <td>0</td>\n      <td>3</td>\n      <td>male</td>\n      <td>1</td>\n      <td>A/5 21171</td>\n      <td>Mr</td>\n      <td>1</td>\n      <td>Single</td>\n      <td>1</td>\n      <td>7.25000</td>\n    </tr>\n    <tr>\n      <th>1</th>\n      <td>38.0</td>\n      <td>C85</td>\n      <td>C</td>\n      <td>71.2833</td>\n      <td>Cumings, Mrs. John Bradley (Florence Briggs Th...</td>\n      <td>0</td>\n      <td>1</td>\n      <td>female</td>\n      <td>1</td>\n      <td>PC 17599</td>\n      <td>Mrs</td>\n      <td>1</td>\n      <td>Single</td>\n      <td>2</td>\n      <td>35.64165</td>\n    </tr>\n    <tr>\n      <th>2</th>\n      <td>26.0</td>\n      <td>NaN</td>\n      <td>S</td>\n      <td>7.9250</td>\n      <td>Heikkinen, Miss. Laina</td>\n      <td>0</td>\n      <td>3</td>\n      <td>female</td>\n      <td>0</td>\n      <td>STON/O2. 3101282</td>\n      <td>Miss</td>\n      <td>1</td>\n      <td>Single</td>\n      <td>1</td>\n      <td>7.92500</td>\n    </tr>\n    <tr>\n      <th>3</th>\n      <td>35.0</td>\n      <td>C123</td>\n      <td>S</td>\n      <td>53.1000</td>\n      <td>Futrelle, Mrs. Jacques Heath (Lily May Peel)</td>\n      <td>0</td>\n      <td>1</td>\n      <td>female</td>\n      <td>1</td>\n      <td>113803</td>\n      <td>Mrs</td>\n      <td>1</td>\n      <td>Single</td>\n      <td>2</td>\n      <td>26.55000</td>\n    </tr>\n    <tr>\n      <th>4</th>\n      <td>35.0</td>\n      <td>NaN</td>\n      <td>S</td>\n      <td>8.0500</td>\n      <td>Allen, Mr. William Henry</td>\n      <td>0</td>\n      <td>3</td>\n      <td>male</td>\n      <td>0</td>\n      <td>373450</td>\n      <td>Mr</td>\n      <td>1</td>\n      <td>Single</td>\n      <td>1</td>\n      <td>8.05000</td>\n    </tr>\n  </tbody>\n</table>\n</div>"
     },
     "metadata": {},
     "execution_count": 78
    }
   ],
   "source": [
    "# ================= 5.Ticket ======================\n",
    "# 处理团体票\n",
    "\n",
    "all_data['Ticket_group'] = all_data.groupby('Ticket')['Ticket'].transform('count')\n",
    "all_data['Fare_pre'] = all_data['Fare'] / all_data['Ticket_group']\n",
    "\n",
    "all_data.head()"
   ]
  },
  {
   "cell_type": "code",
   "execution_count": 80,
   "metadata": {},
   "outputs": [
    {
     "output_type": "execute_result",
     "data": {
      "text/plain": "U    1014\nC      94\nB      65\nD      46\nE      41\nA      22\nF      21\nG       5\nT       1\nName: Deck, dtype: int64"
     },
     "metadata": {},
     "execution_count": 80
    }
   ],
   "source": [
    "# ================= 6.Cabin ======================\n",
    "\n",
    "all_data['Cabin'].value_counts()\n",
    "\n",
    "# 将有Cabin值的按照首字母分组，没有的则设置为U\n",
    "all_data['Deck'] = all_data['Cabin'].apply(lambda x : 'U' if pd.isnull(x) else str(x)[0])\n",
    "\n",
    "all_data['Deck'].value_counts()\n",
    "\n"
   ]
  },
  {
   "cell_type": "code",
   "execution_count": 92,
   "metadata": {},
   "outputs": [],
   "source": [
    "# ================= 7.age ======================\n",
    "\n",
    "def fill_missing_age(train_age, test_age):\n",
    "    # 数据处理\n",
    "    train_x = train_age.drop(columns='Age')\n",
    "    train_y = train_age['Age']\n",
    "    test_x = test_age.drop(columns='Age')\n",
    "    # 线性回归进行拟合\n",
    "    linear_reg = LinearRegression()\n",
    "    linear_reg.fit(train_x, train_y)\n",
    "    # 线性回归进行预测\n",
    "    test_x['Age'] = linear_reg.predict(test_x)\n",
    "    return test_x\n"
   ]
  },
  {
   "cell_type": "code",
   "execution_count": 102,
   "metadata": {
    "tags": []
   },
   "outputs": [
    {
     "output_type": "stream",
     "name": "stdout",
     "text": "&lt;class &#39;pandas.core.frame.DataFrame&#39;&gt;\nInt64Index: 263 entries, 5 to 1308\nData columns (total 28 columns):\nAge                    0 non-null float64\nFare_pre               263 non-null float64\nEmbarked_C             263 non-null uint8\nEmbarked_Q             263 non-null uint8\nEmbarked_S             263 non-null uint8\nPclass_1               263 non-null uint8\nPclass_2               263 non-null uint8\nPclass_3               263 non-null uint8\nSex_female             263 non-null uint8\nSex_male               263 non-null uint8\nTitle_Master           263 non-null uint8\nTitle_Miss             263 non-null uint8\nTitle_Mr               263 non-null uint8\nTitle_Mrs              263 non-null uint8\nTitle_Officer          263 non-null uint8\nTitle_Royalty          263 non-null uint8\nFamily_label_Large     263 non-null uint8\nFamily_label_Mid       263 non-null uint8\nFamily_label_Single    263 non-null uint8\nDeck_A                 263 non-null uint8\nDeck_B                 263 non-null uint8\nDeck_C                 263 non-null uint8\nDeck_D                 263 non-null uint8\nDeck_E                 263 non-null uint8\nDeck_F                 263 non-null uint8\nDeck_G                 263 non-null uint8\nDeck_T                 263 non-null uint8\nDeck_U                 263 non-null uint8\ndtypes: float64(2), uint8(26)\nmemory usage: 12.8 KB\n"
    }
   ],
   "source": [
    "\n",
    "# 从原始df中提取需要的特征\n",
    "missing_age_df = all_data[['Age','Embarked','Pclass','Sex', 'Title', 'Family_label', 'Deck', 'Fare_pre']] \n",
    "# 将部分特征进行展开\n",
    "missing_age_df = pd.get_dummies(missing_age_df,columns=['Embarked','Pclass','Sex', 'Title', 'Family_label', 'Deck'])\n",
    "# 将有Age的部分作为训练集，nan的部分作为测试集\n",
    "missing_age_train = missing_age_df[missing_age_df['Age'].notnull()]\n",
    "missing_age_test = missing_age_df[missing_age_df['Age'].isnull()]\n",
    "# 年龄预测并填充\n",
    "missing_age_predict = fill_missing_age(missing_age_train, missing_age_test)\n",
    "all_data.loc[(all_data['Age'].isnull()),'Age'] = missing_age_predict['Age']"
   ]
  },
  {
   "cell_type": "code",
   "execution_count": 103,
   "metadata": {
    "tags": []
   },
   "outputs": [
    {
     "output_type": "stream",
     "name": "stdout",
     "text": "&lt;class &#39;pandas.core.frame.DataFrame&#39;&gt;\nRangeIndex: 1309 entries, 0 to 1308\nData columns (total 16 columns):\nAge             1309 non-null float64\nCabin           295 non-null object\nEmbarked        1309 non-null object\nFare            1309 non-null float64\nName            1309 non-null object\nParch           1309 non-null int64\nPclass          1309 non-null int64\nSex             1309 non-null object\nSibSp           1309 non-null int64\nTicket          1309 non-null object\nTitle           1309 non-null object\nFamily_size     1309 non-null int64\nFamily_label    1309 non-null object\nTicket_group    1309 non-null int64\nFare_pre        1309 non-null float64\nDeck            1309 non-null object\ndtypes: float64(3), int64(5), object(8)\nmemory usage: 163.7+ KB\n"
    }
   ],
   "source": [
    "all_data.info()"
   ]
  },
  {
   "source": [
    "###  3. 模型构建"
   ],
   "cell_type": "markdown",
   "metadata": {}
  },
  {
   "cell_type": "code",
   "execution_count": 110,
   "metadata": {},
   "outputs": [
    {
     "output_type": "execute_result",
     "data": {
      "text/plain": "        Age Cabin Embarked     Fare  \\\n0 -0.582586   NaN        S   7.2500   \n1  0.610005   C85        C  71.2833   \n2 -0.284438   NaN        S   7.9250   \n3  0.386394  C123        S  53.1000   \n4  0.386394   NaN        S   8.0500   \n\n                                                Name  Parch  Pclass     Sex  \\\n0                            Braund, Mr. Owen Harris      0       3    male   \n1  Cumings, Mrs. John Bradley (Florence Briggs Th...      0       1  female   \n2                             Heikkinen, Miss. Laina      0       3  female   \n3       Futrelle, Mrs. Jacques Heath (Lily May Peel)      0       1  female   \n4                           Allen, Mr. William Henry      0       3    male   \n\n   SibSp            Ticket Title  Family_size Family_label  Ticket_group  \\\n0      1         A/5 21171    Mr            1       Single             1   \n1      1          PC 17599   Mrs            1       Single             2   \n2      0  STON/O2. 3101282  Miss            1       Single             1   \n3      1            113803   Mrs            1       Single             2   \n4      0            373450    Mr            1       Single             1   \n\n   Fare_pre Deck  \n0 -0.554243    U  \n1  1.541811    C  \n2 -0.504410    U  \n3  0.870607    C  \n4 -0.495182    U  ",
      "text/html": "<div>\n<style scoped>\n    .dataframe tbody tr th:only-of-type {\n        vertical-align: middle;\n    }\n\n    .dataframe tbody tr th {\n        vertical-align: top;\n    }\n\n    .dataframe thead th {\n        text-align: right;\n    }\n</style>\n<table border=\"1\" class=\"dataframe\">\n  <thead>\n    <tr style=\"text-align: right;\">\n      <th></th>\n      <th>Age</th>\n      <th>Cabin</th>\n      <th>Embarked</th>\n      <th>Fare</th>\n      <th>Name</th>\n      <th>Parch</th>\n      <th>Pclass</th>\n      <th>Sex</th>\n      <th>SibSp</th>\n      <th>Ticket</th>\n      <th>Title</th>\n      <th>Family_size</th>\n      <th>Family_label</th>\n      <th>Ticket_group</th>\n      <th>Fare_pre</th>\n      <th>Deck</th>\n    </tr>\n  </thead>\n  <tbody>\n    <tr>\n      <th>0</th>\n      <td>-0.582586</td>\n      <td>NaN</td>\n      <td>S</td>\n      <td>7.2500</td>\n      <td>Braund, Mr. Owen Harris</td>\n      <td>0</td>\n      <td>3</td>\n      <td>male</td>\n      <td>1</td>\n      <td>A/5 21171</td>\n      <td>Mr</td>\n      <td>1</td>\n      <td>Single</td>\n      <td>1</td>\n      <td>-0.554243</td>\n      <td>U</td>\n    </tr>\n    <tr>\n      <th>1</th>\n      <td>0.610005</td>\n      <td>C85</td>\n      <td>C</td>\n      <td>71.2833</td>\n      <td>Cumings, Mrs. John Bradley (Florence Briggs Th...</td>\n      <td>0</td>\n      <td>1</td>\n      <td>female</td>\n      <td>1</td>\n      <td>PC 17599</td>\n      <td>Mrs</td>\n      <td>1</td>\n      <td>Single</td>\n      <td>2</td>\n      <td>1.541811</td>\n      <td>C</td>\n    </tr>\n    <tr>\n      <th>2</th>\n      <td>-0.284438</td>\n      <td>NaN</td>\n      <td>S</td>\n      <td>7.9250</td>\n      <td>Heikkinen, Miss. Laina</td>\n      <td>0</td>\n      <td>3</td>\n      <td>female</td>\n      <td>0</td>\n      <td>STON/O2. 3101282</td>\n      <td>Miss</td>\n      <td>1</td>\n      <td>Single</td>\n      <td>1</td>\n      <td>-0.504410</td>\n      <td>U</td>\n    </tr>\n    <tr>\n      <th>3</th>\n      <td>0.386394</td>\n      <td>C123</td>\n      <td>S</td>\n      <td>53.1000</td>\n      <td>Futrelle, Mrs. Jacques Heath (Lily May Peel)</td>\n      <td>0</td>\n      <td>1</td>\n      <td>female</td>\n      <td>1</td>\n      <td>113803</td>\n      <td>Mrs</td>\n      <td>1</td>\n      <td>Single</td>\n      <td>2</td>\n      <td>0.870607</td>\n      <td>C</td>\n    </tr>\n    <tr>\n      <th>4</th>\n      <td>0.386394</td>\n      <td>NaN</td>\n      <td>S</td>\n      <td>8.0500</td>\n      <td>Allen, Mr. William Henry</td>\n      <td>0</td>\n      <td>3</td>\n      <td>male</td>\n      <td>0</td>\n      <td>373450</td>\n      <td>Mr</td>\n      <td>1</td>\n      <td>Single</td>\n      <td>1</td>\n      <td>-0.495182</td>\n      <td>U</td>\n    </tr>\n  </tbody>\n</table>\n</div>"
     },
     "metadata": {},
     "execution_count": 110
    }
   ],
   "source": [
    "# 数据处理\n",
    "\n",
    "# Age', 'Fare_pre 进行归一化处理\n",
    "normal_data = preprocessing.StandardScaler().fit(all_data[['Age', 'Fare_pre']])\n",
    "all_data[['Age', 'Fare_pre']] = normal_data.transform(all_data[['Age', 'Fare_pre']])\n",
    "\n",
    "all_data.head() "
   ]
  },
  {
   "cell_type": "code",
   "execution_count": 113,
   "metadata": {},
   "outputs": [],
   "source": [
    "\n",
    "all_data = all_data[['Age','Embarked','Pclass','Sex', 'Title', 'Family_label', 'Deck', 'Fare_pre']] \n",
    "# 将部分特征进行展开\n",
    "all_data = pd.get_dummies(all_data,columns=['Embarked','Pclass','Sex', 'Title', 'Family_label', 'Deck'])"
   ]
  },
  {
   "cell_type": "code",
   "execution_count": 114,
   "metadata": {},
   "outputs": [],
   "source": [
    "# 将数据集进行分割\n",
    "train_data_x = all_data[:891]\n",
    "train_data_y = train_lable\n",
    "test_data_x = all_data[891:]"
   ]
  },
  {
   "cell_type": "code",
   "execution_count": 123,
   "metadata": {
    "tags": []
   },
   "outputs": [
    {
     "output_type": "stream",
     "name": "stdout",
     "text": "Fitting 10 folds for each of 60 candidates, totalling 600 fits\n[Parallel(n_jobs=25)]: Using backend LokyBackend with 25 concurrent workers.\n[Parallel(n_jobs=25)]: Done 150 tasks      | elapsed:   19.4s\n[Parallel(n_jobs=25)]: Done 400 tasks      | elapsed:   44.5s\n[Parallel(n_jobs=25)]: Done 600 out of 600 | elapsed:  1.1min finished\n"
    },
    {
     "output_type": "execute_result",
     "data": {
      "text/plain": "GridSearchCV(cv=10, estimator=RandomForestClassifier(random_state=42),\n             n_jobs=25,\n             param_grid={&#39;criterion&#39;: [&#39;gini&#39;, &#39;entropy&#39;],\n                         &#39;max_depth&#39;: [4, 5, 6, 7, 8],\n                         &#39;max_features&#39;: [&#39;auto&#39;, &#39;sqrt&#39;, &#39;log2&#39;],\n                         &#39;n_estimators&#39;: [200, 500]},\n             scoring=&#39;roc_auc&#39;, verbose=1)"
     },
     "metadata": {},
     "execution_count": 123
    }
   ],
   "source": [
    "rf_cls = ensemble.RandomForestClassifier(random_state=42)\n",
    "\n",
    "param_grid = { \n",
    "    'n_estimators': [200, 500],\n",
    "    'max_features': ['auto', 'sqrt', 'log2'],\n",
    "    'max_depth' : [4,5,6,7,8],\n",
    "    'criterion' :['gini', 'entropy']\n",
    "}\n",
    "\n",
    "rf_cls_grid = model_selection.GridSearchCV(rf_cls, param_grid, n_jobs=25, cv=10, scoring = 'roc_auc',verbose=1)\n",
    "rf_cls_grid.fit(train_data_x, train_data_y)\n"
   ]
  },
  {
   "cell_type": "code",
   "execution_count": 125,
   "metadata": {},
   "outputs": [],
   "source": [
    "submit = rf_cls_grid.predict(test_data_x)\n",
    "\n"
   ]
  },
  {
   "cell_type": "code",
   "execution_count": 132,
   "metadata": {},
   "outputs": [],
   "source": [
    "submit_df = pd.DataFrame(submit)\n",
    "\n",
    "test_df = pd.read_csv('dataset/test.csv')\n",
    "index_df = test_df[['PassengerId']]\n",
    "\n",
    "index_df['Survived'] = submit_df\n",
    "\n",
    "# submit_df = pd.concat([index_df, submit_df], axis=1)\n",
    "\n",
    "index_df.to_csv('./submit/test1.csv', index=False)"
   ]
  }
 ]
}